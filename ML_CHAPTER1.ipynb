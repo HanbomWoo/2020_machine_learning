{
 "cells": [
  {
   "cell_type": "markdown",
   "metadata": {},
   "source": [
    "# 백터, 행렬, 배열\n",
    "\n",
    "## 1.1벡터 만들기\n",
    "\n",
    "목표: 넘파이로 1차원 배열 생성"
   ]
  },
  {
   "cell_type": "code",
   "execution_count": 1,
   "metadata": {},
   "outputs": [],
   "source": [
    "import numpy as np\n",
    "vector_row = np.array([1,2,3]) #행이 하나\n",
    "vector_column = np.array([[1],\n",
    "                         [2],\n",
    "                         [3]]) #열이 하나"
   ]
  },
  {
   "cell_type": "markdown",
   "metadata": {},
   "source": [
    "> * 넘파이의 핵심 데이터 구조는 다차원배열   \n",
    "> * 벡터는 1차원 배열로 생성   \n",
    "> * 배열은 행(수평) 또는 열(수직)으로 만들 수 있다.\n",
    "\n",
    "***"
   ]
  },
  {
   "cell_type": "markdown",
   "metadata": {},
   "source": [
    "> * 넘파이 배열은 ndarray 클래스의 객체이다."
   ]
  },
  {
   "cell_type": "code",
   "execution_count": 2,
   "metadata": {},
   "outputs": [
    {
     "name": "stdout",
     "output_type": "stream",
     "text": [
      "<class 'numpy.ndarray'>\n"
     ]
    }
   ],
   "source": [
    "print(type(vector_row))"
   ]
  },
  {
   "cell_type": "markdown",
   "metadata": {},
   "source": [
    "> > ### ndarray 클래스   \n",
    "> > 첫번째 매개변수에 배열의 크기를 정수 튜플로 지정해 배열 생성 가능   \n",
    "BUT 권장하지 않음"
   ]
  },
  {
   "cell_type": "code",
   "execution_count": 20,
   "metadata": {},
   "outputs": [
    {
     "name": "stdout",
     "output_type": "stream",
     "text": [
      "[ 1.14207443e-311  0.00000000e+000 -4.94065646e-324]\n"
     ]
    }
   ],
   "source": [
    "bad_way = np.ndarray((3,))  \n",
    "print(bad_way)"
   ]
  },
  {
   "cell_type": "code",
   "execution_count": 21,
   "metadata": {},
   "outputs": [
    {
     "name": "stdout",
     "output_type": "stream",
     "text": [
      "[[0. 0. 0. 0.]\n",
      " [0. 0. 0. 0.]\n",
      " [0. 0. 0. 0.]]\n"
     ]
    }
   ],
   "source": [
    "bad_way2 = np.ndarray((3,4)) #3=행, 4=열\n",
    "print(bad_way2)"
   ]
  },
  {
   "cell_type": "markdown",
   "metadata": {},
   "source": [
    "> > ### asarray 함수   \n",
    "함수입력이 넘파이 배열일 경우 새로운 배열 생성 안함"
   ]
  },
  {
   "cell_type": "code",
   "execution_count": 106,
   "metadata": {},
   "outputs": [
    {
     "name": "stdout",
     "output_type": "stream",
     "text": [
      "2559576377416\n",
      "2559576389952\n",
      "2559576364016\n",
      "2559576364016\n",
      "<class 'numpy.ndarray'>\n"
     ]
    }
   ],
   "source": [
    "a=[1,2,3]\n",
    "new_row=np.asarray(a)\n",
    "\n",
    "print(id(a))\n",
    "print(id(new_row))\n",
    "\n",
    "b=np.ndarray((3,))\n",
    "new_row2=np.asarray(b)\n",
    "\n",
    "print(id(b))\n",
    "print(id(new_row2))\n",
    "print(type(new_row2))"
   ]
  },
  {
   "cell_type": "code",
   "execution_count": 27,
   "metadata": {},
   "outputs": [
    {
     "data": {
      "text/plain": [
       "True"
      ]
     },
     "execution_count": 27,
     "metadata": {},
     "output_type": "execute_result"
    }
   ],
   "source": [
    "new_row=np.asarray(vector_row)\n",
    "new_row is vector_row #원본과 동일, 새로운 배열 생성x"
   ]
  },
  {
   "cell_type": "markdown",
   "metadata": {},
   "source": [
    "> > ### array 함수   \n",
    "입력 배열을 복사할지 선택하는 copy 매개변수 존재   \n",
    "copy 매개변수의 기본값은 True -> 배열의 복사본 생성"
   ]
  },
  {
   "cell_type": "code",
   "execution_count": 28,
   "metadata": {},
   "outputs": [
    {
     "data": {
      "text/plain": [
       "False"
      ]
     },
     "execution_count": 28,
     "metadata": {},
     "output_type": "execute_result"
    }
   ],
   "source": [
    "new_row1 = np.array(vector_row)\n",
    "new_row1 is vector_row #새로운 배열 생성"
   ]
  },
  {
   "cell_type": "markdown",
   "metadata": {},
   "source": [
    "> > #### copy 메소드   \n",
    "배열 복사의 의도를 정확히 밝히는 용도"
   ]
  },
  {
   "cell_type": "code",
   "execution_count": 29,
   "metadata": {},
   "outputs": [
    {
     "data": {
      "text/plain": [
       "False"
      ]
     },
     "execution_count": 29,
     "metadata": {},
     "output_type": "execute_result"
    }
   ],
   "source": [
    "new_row = vector_row.copy()\n",
    "new_row is vector_row"
   ]
  },
  {
   "cell_type": "markdown",
   "metadata": {},
   "source": [
    "***\n",
    "\n",
    "## 1.2 행렬만들기   \n",
    "\n",
    "목표: 넘파이로 2차원 배열 만들기"
   ]
  },
  {
   "cell_type": "code",
   "execution_count": 52,
   "metadata": {},
   "outputs": [
    {
     "data": {
      "text/plain": [
       "array([[1, 2],\n",
       "       [1, 2],\n",
       "       [1, 2]])"
      ]
     },
     "execution_count": 52,
     "metadata": {},
     "output_type": "execute_result"
    }
   ],
   "source": [
    "import numpy as np\n",
    "matrix = np.array([[1,2],\n",
    "                  [1,2],\n",
    "                  [1,2]]) #\n",
    "matrix_object = np.mat([[1,2],\n",
    "                       [1,2],\n",
    "                       [1,2]]) #\n",
    "matrix"
   ]
  },
  {
   "cell_type": "code",
   "execution_count": 53,
   "metadata": {},
   "outputs": [
    {
     "data": {
      "text/plain": [
       "matrix([[1, 2],\n",
       "        [1, 2],\n",
       "        [1, 2]])"
      ]
     },
     "execution_count": 53,
     "metadata": {},
     "output_type": "execute_result"
    }
   ],
   "source": [
    "matrix_object"
   ]
  },
  {
   "cell_type": "markdown",
   "metadata": {},
   "source": [
    "위의 행렬데이터 구조(matrix_object)는 2가지 이유로 권장하지 않는다.   \n",
    "1. 배열이 넘파이 표준 데이터 구조다\n",
    "2. 대부분 넘파이 함수는 배열을 반환하고 행렬 객체는 반환하지 않기 때문\n",
    "\n"
   ]
  },
  {
   "cell_type": "markdown",
   "metadata": {},
   "source": [
    "> ### empty 함수   \n",
    "초깃값 대신 크기만 지정해 임의의 값이 채워진 배열을 만든다."
   ]
  },
  {
   "cell_type": "code",
   "execution_count": 98,
   "metadata": {},
   "outputs": [
    {
     "data": {
      "text/plain": [
       "array([[-0.47113526,  1.26271548],\n",
       "       [-1.17051545,  1.0657892 ],\n",
       "       [-0.69993739,  0.14407911]])"
      ]
     },
     "execution_count": 98,
     "metadata": {},
     "output_type": "execute_result"
    }
   ],
   "source": [
    "empty_matrix = np.empty((3,2))\n",
    "empty_matrix"
   ]
  },
  {
   "cell_type": "markdown",
   "metadata": {},
   "source": [
    "> ### zeros 함수, ones 함수\n",
    "zeros : 0으로 채운 배열을 만든다.   \n",
    "ones : 1로 채운 배열을 만든다."
   ]
  },
  {
   "cell_type": "code",
   "execution_count": 44,
   "metadata": {},
   "outputs": [
    {
     "data": {
      "text/plain": [
       "array([[0., 0.],\n",
       "       [0., 0.],\n",
       "       [0., 0.]])"
      ]
     },
     "execution_count": 44,
     "metadata": {},
     "output_type": "execute_result"
    }
   ],
   "source": [
    "zero_matrix=np.zeros((3,2))\n",
    "zero_matrix"
   ]
  },
  {
   "cell_type": "code",
   "execution_count": 54,
   "metadata": {},
   "outputs": [
    {
     "data": {
      "text/plain": [
       "array([[1., 1.],\n",
       "       [1., 1.],\n",
       "       [1., 1.]])"
      ]
     },
     "execution_count": 54,
     "metadata": {},
     "output_type": "execute_result"
    }
   ],
   "source": [
    "one_matrix=np.ones((3,2))\n",
    "one_matrix"
   ]
  },
  {
   "cell_type": "markdown",
   "metadata": {},
   "source": [
    "> ### full 함수   \n",
    "특정값으로 채운 배열 생성   \n",
    "첫번째 매개변수에는 배열의 크기, 두번째 매개변수에는 채울 값을 전달"
   ]
  },
  {
   "cell_type": "code",
   "execution_count": 99,
   "metadata": {},
   "outputs": [
    {
     "data": {
      "text/plain": [
       "array([[7., 7.],\n",
       "       [7., 7.],\n",
       "       [7., 7.]])"
      ]
     },
     "execution_count": 99,
     "metadata": {},
     "output_type": "execute_result"
    }
   ],
   "source": [
    "seven_matrix = np.zeros((3,2)) + 7\n",
    "seven_matrix"
   ]
  },
  {
   "cell_type": "code",
   "execution_count": 100,
   "metadata": {},
   "outputs": [
    {
     "data": {
      "text/plain": [
       "array([[7, 7],\n",
       "       [7, 7],\n",
       "       [7, 7]])"
      ]
     },
     "execution_count": 100,
     "metadata": {},
     "output_type": "execute_result"
    }
   ],
   "source": [
    "seven_matrix = np.full((3,2), 7)\n",
    "seven_matrix"
   ]
  },
  {
   "cell_type": "markdown",
   "metadata": {},
   "source": [
    "***\n",
    "\n",
    "## 1.3 희소 행렬 만들기   \n",
    "\n",
    "목적: 데이터에 0이 아닌 값이 매우 적을때!, 효율적으로 표현하기"
   ]
  },
  {
   "cell_type": "code",
   "execution_count": 101,
   "metadata": {},
   "outputs": [
    {
     "name": "stdout",
     "output_type": "stream",
     "text": [
      "  (1, 1)\t1\n",
      "  (2, 0)\t3\n"
     ]
    }
   ],
   "source": [
    "import numpy as np\n",
    "from scipy import sparse\n",
    "\n",
    "matrix=np.array([[0,0],\n",
    "                [0,1],\n",
    "                [3,0]])\n",
    "\n",
    "matrix_sparse= sparse.csr_matrix(matrix) #sparse.csr_matrix(배열) : CSR행렬 생성\n",
    "print(matrix_sparse)"
   ]
  },
  {
   "cell_type": "markdown",
   "metadata": {},
   "source": [
    "**희소행렬은 0이 아닌 원소만 저장, 다른 모든 원소는 0이라 가정**   \n",
    "\n",
    "> ### Comprassed Sparse Row(CSR) 행렬   \n",
    "* ```(m, n) a : m+1번째 행의 n+1번째 열에 있는 원소가 a```   \n",
    "* 0인 원소를 아무리 많이 추가해도 희소행렬의 크기는 바뀌지 않는다   \n",
    "* 이 외 행렬 : 리스트의 리스트, 키의 딕셔너리\n",
    "\n",
    "\n"
   ]
  },
  {
   "cell_type": "code",
   "execution_count": 136,
   "metadata": {},
   "outputs": [
    {
     "name": "stdout",
     "output_type": "stream",
     "text": [
      "  (1, 1)\t1\n",
      "  (2, 0)\t3\n"
     ]
    }
   ],
   "source": [
    "matrix_large = np.array([[0,0,0,0,0,0,0,0,0,0],\n",
    "                        [0,1,0,0,0,0,0,0,0,0],\n",
    "                        [3,0,0,0,0,0,0,0,0,0]])  #밀집배열 생성\n",
    "matrix_large_sparse = sparse.csr_matrix(matrix_large)\n",
    "print(matrix_large_sparse)"
   ]
  },
  {
   "cell_type": "markdown",
   "metadata": {},
   "source": [
    "### 역으로 생성하기...sparse_matrix에서 Dense_matrix로   \n",
    "\n",
    "* 밀집배열 생성 : 원소의 행과 열의 인덱스를 직접 지정해 희소행렬 생성\n",
    "   1. 희소행렬에 (data, (row_index(행), col_index(열)))로 구성된 튜플 전달\n",
    "   2. shape 매개변수에서 0을 포함한 희소행렬의 전체 크기 지정\n",
    "   3. toarray메서드 or todense 메서드를 사용해 변환"
   ]
  },
  {
   "cell_type": "code",
   "execution_count": 137,
   "metadata": {},
   "outputs": [
    {
     "name": "stdout",
     "output_type": "stream",
     "text": [
      "  (1, 1)\t1\n",
      "  (2, 0)\t3\n",
      "[[0 0 0 0 0 0 0 0 0 0]\n",
      " [0 1 0 0 0 0 0 0 0 0]\n",
      " [3 0 0 0 0 0 0 0 0 0]]\n",
      "[[0 0 0 0 0 0 0 0 0 0]\n",
      " [0 1 0 0 0 0 0 0 0 0]\n",
      " [3 0 0 0 0 0 0 0 0 0]]\n"
     ]
    }
   ],
   "source": [
    "matrix_sparse_2 = sparse.csr_matrix(([1,3], ([1,2], [1,0])), shape=(3, 10))\n",
    "\n",
    "print(matrix_sparse_2)\n",
    "print(matrix_sparse_2.toarray())  #밀집배열로 변환\n",
    "print(matrix_sparse_2.todense())  #np.matrix 객체 반환"
   ]
  },
  {
   "cell_type": "markdown",
   "metadata": {},
   "source": [
    "***   \n",
    "\n",
    "## 1.4원소 선택하기"
   ]
  },
  {
   "cell_type": "code",
   "execution_count": 108,
   "metadata": {},
   "outputs": [],
   "source": [
    "import numpy as np\n",
    "vector = np.array([1,2,3,4,5,6]) #행벡터 생성\n",
    "matrix = np.array([[1,2,3],\n",
    "                  [4,5,6],\n",
    "                  [7,8,9]])"
   ]
  },
  {
   "cell_type": "code",
   "execution_count": 109,
   "metadata": {},
   "outputs": [
    {
     "data": {
      "text/plain": [
       "3"
      ]
     },
     "execution_count": 109,
     "metadata": {},
     "output_type": "execute_result"
    }
   ],
   "source": [
    "vector[2]"
   ]
  },
  {
   "cell_type": "code",
   "execution_count": 110,
   "metadata": {},
   "outputs": [
    {
     "data": {
      "text/plain": [
       "5"
      ]
     },
     "execution_count": 110,
     "metadata": {},
     "output_type": "execute_result"
    }
   ],
   "source": [
    "matrix[1,1]"
   ]
  },
  {
   "cell_type": "markdown",
   "metadata": {},
   "source": [
    "> * 넘파이 배열의 인덱스는 0부터 시작"
   ]
  },
  {
   "cell_type": "code",
   "execution_count": 111,
   "metadata": {},
   "outputs": [
    {
     "data": {
      "text/plain": [
       "array([1, 2, 3, 4, 5, 6])"
      ]
     },
     "execution_count": 111,
     "metadata": {},
     "output_type": "execute_result"
    }
   ],
   "source": [
    "vector[:]"
   ]
  },
  {
   "cell_type": "code",
   "execution_count": 112,
   "metadata": {},
   "outputs": [
    {
     "data": {
      "text/plain": [
       "array([1, 2, 3])"
      ]
     },
     "execution_count": 112,
     "metadata": {},
     "output_type": "execute_result"
    }
   ],
   "source": [
    "vector[:3] #3번째 포함 그 이전의 모든 원소"
   ]
  },
  {
   "cell_type": "code",
   "execution_count": 113,
   "metadata": {},
   "outputs": [
    {
     "data": {
      "text/plain": [
       "array([4, 5, 6])"
      ]
     },
     "execution_count": 113,
     "metadata": {},
     "output_type": "execute_result"
    }
   ],
   "source": [
    "vector[3:] #3번째 이후 모든 원소"
   ]
  },
  {
   "cell_type": "code",
   "execution_count": 74,
   "metadata": {},
   "outputs": [
    {
     "data": {
      "text/plain": [
       "6"
      ]
     },
     "execution_count": 74,
     "metadata": {},
     "output_type": "execute_result"
    }
   ],
   "source": [
    "vector[-1] #마지막 원소"
   ]
  },
  {
   "cell_type": "code",
   "execution_count": 114,
   "metadata": {},
   "outputs": [
    {
     "data": {
      "text/plain": [
       "array([[1, 2, 3],\n",
       "       [4, 5, 6]])"
      ]
     },
     "execution_count": 114,
     "metadata": {},
     "output_type": "execute_result"
    }
   ],
   "source": [
    "matrix[:2,:]"
   ]
  },
  {
   "cell_type": "markdown",
   "metadata": {},
   "source": [
    "> ### 팬시인덱싱   \n",
    "* 행과 열의 인덱스 리스트를 전달해 배열의 원소 선택\n",
    "* (기능)"
   ]
  },
  {
   "cell_type": "code",
   "execution_count": 140,
   "metadata": {},
   "outputs": [
    {
     "data": {
      "text/plain": [
       "array([[1, 2, 3],\n",
       "       [7, 8, 9]])"
      ]
     },
     "execution_count": 140,
     "metadata": {},
     "output_type": "execute_result"
    }
   ],
   "source": [
    "matrix[[0,2]] #첫번째, 세번째 행 선택"
   ]
  },
  {
   "cell_type": "code",
   "execution_count": 118,
   "metadata": {},
   "outputs": [
    {
     "data": {
      "text/plain": [
       "array([2, 7])"
      ]
     },
     "execution_count": 118,
     "metadata": {},
     "output_type": "execute_result"
    }
   ],
   "source": [
    "matrix[[0,2],[1,0]] # [row_index, col_index] -> (0,1), (2,0) 위치의 원소 선택"
   ]
  },
  {
   "cell_type": "code",
   "execution_count": 117,
   "metadata": {},
   "outputs": [
    {
     "data": {
      "text/plain": [
       "array([[1, 2, 3],\n",
       "       [4, 5, 6],\n",
       "       [7, 8, 9]])"
      ]
     },
     "execution_count": 117,
     "metadata": {},
     "output_type": "execute_result"
    }
   ],
   "source": [
    "matrix"
   ]
  },
  {
   "cell_type": "markdown",
   "metadata": {},
   "source": [
    "> * 불리언 마스크 배열의 경우"
   ]
  },
  {
   "cell_type": "code",
   "execution_count": 120,
   "metadata": {},
   "outputs": [
    {
     "data": {
      "text/plain": [
       "array([[False, False, False],\n",
       "       [False, False,  True],\n",
       "       [ True,  True,  True]])"
      ]
     },
     "execution_count": 120,
     "metadata": {},
     "output_type": "execute_result"
    }
   ],
   "source": [
    "mask = matrix > 5\n",
    "mask"
   ]
  },
  {
   "cell_type": "code",
   "execution_count": 121,
   "metadata": {},
   "outputs": [
    {
     "data": {
      "text/plain": [
       "array([6, 7, 8, 9])"
      ]
     },
     "execution_count": 121,
     "metadata": {},
     "output_type": "execute_result"
    }
   ],
   "source": [
    "matrix[mask]  #블리언 마스크 배열을 사용해 원소 선택"
   ]
  },
  {
   "cell_type": "markdown",
   "metadata": {},
   "source": [
    "***   \n",
    "\n",
    "## 1.5행렬정보 확인하기   \n",
    "\n",
    "목적 : 행렬크기, 원소 개수, 차원 구하기"
   ]
  },
  {
   "cell_type": "code",
   "execution_count": 141,
   "metadata": {},
   "outputs": [
    {
     "data": {
      "text/plain": [
       "(3, 4)"
      ]
     },
     "execution_count": 141,
     "metadata": {},
     "output_type": "execute_result"
    }
   ],
   "source": [
    "import numpy as np\n",
    "matrix = np.array([[1, 2, 3, 4],\n",
    "                   [5, 6, 7, 8],\n",
    "                   [9, 10, 11, 12]])\n",
    "\n",
    "matrix.shape  #행렬크기 확인"
   ]
  },
  {
   "cell_type": "code",
   "execution_count": 86,
   "metadata": {},
   "outputs": [
    {
     "data": {
      "text/plain": [
       "12"
      ]
     },
     "execution_count": 86,
     "metadata": {},
     "output_type": "execute_result"
    }
   ],
   "source": [
    "matrix.size #행렬의 원소 갯수 확인"
   ]
  },
  {
   "cell_type": "code",
   "execution_count": 87,
   "metadata": {},
   "outputs": [
    {
     "data": {
      "text/plain": [
       "2"
      ]
     },
     "execution_count": 87,
     "metadata": {},
     "output_type": "execute_result"
    }
   ],
   "source": [
    "matrix.ndim #차원수 확인"
   ]
  },
  {
   "cell_type": "code",
   "execution_count": 88,
   "metadata": {},
   "outputs": [
    {
     "data": {
      "text/plain": [
       "dtype('int32')"
      ]
     },
     "execution_count": 88,
     "metadata": {},
     "output_type": "execute_result"
    }
   ],
   "source": [
    "matrix.dtype #원소의 데이터 타입 확인"
   ]
  },
  {
   "cell_type": "code",
   "execution_count": 89,
   "metadata": {},
   "outputs": [
    {
     "data": {
      "text/plain": [
       "4"
      ]
     },
     "execution_count": 89,
     "metadata": {},
     "output_type": "execute_result"
    }
   ],
   "source": [
    "matrix.itemsize #원소 하나가 차지하는 바이트 크기"
   ]
  },
  {
   "cell_type": "code",
   "execution_count": 91,
   "metadata": {},
   "outputs": [
    {
     "data": {
      "text/plain": [
       "48"
      ]
     },
     "execution_count": 91,
     "metadata": {},
     "output_type": "execute_result"
    }
   ],
   "source": [
    "matrix.nbytes #배열 전체가 차지하는 바이트 크기 items x size"
   ]
  },
  {
   "cell_type": "markdown",
   "metadata": {},
   "source": [
    "***   \n",
    "\n",
    "## 1.6벡터화 연산 적용하기   \n"
   ]
  },
  {
   "cell_type": "code",
   "execution_count": 142,
   "metadata": {},
   "outputs": [],
   "source": [
    "import numpy as np\n",
    "matrix = np.array([[1, 2, 3],\n",
    "                   [4, 5, 6],\n",
    "                   [7, 8, 9]])\n",
    "\n",
    "add_100 = lambda i: i+100 \n",
    "#함수 adder는 인수 i를 받아들이고 이를 취하는 함수, 람다를 반환한다."
   ]
  },
  {
   "cell_type": "markdown",
   "metadata": {},
   "source": [
    "\n",
    "> ### lambda 함수\n",
    "```\n",
    "lambda argument : 표현식\n",
    "```   \n",
    "* 프로그래밍에서 익명의 함수를 참조   \n",
    "* 이름없이 빠르게 함수를 임의로 사용,제거 가능   \n",
    "\n",
    "> ### vectorize 클래스   \n",
    "* 배열의 일부나 전체에 적용하도록 함수를 변환   \n",
    "* 기본적으로 원소를 순회하는 for루프를 구현한 것으로 성능향상은 되지않음\n"
   ]
  },
  {
   "cell_type": "code",
   "execution_count": 143,
   "metadata": {},
   "outputs": [
    {
     "data": {
      "text/plain": [
       "array([[101, 102, 103],\n",
       "       [104, 105, 106],\n",
       "       [107, 108, 109]])"
      ]
     },
     "execution_count": 143,
     "metadata": {},
     "output_type": "execute_result"
    }
   ],
   "source": [
    "vectorized_add_100 = np.vectorize(add_100) # 벡터화된 함수 생성\n",
    "vectorized_add_100(matrix) #행렬의 모든 원소에 함수를 적용한다"
   ]
  },
  {
   "cell_type": "markdown",
   "metadata": {},
   "source": [
    "\n",
    "### broadcasting\n",
    "\n",
    "* 차원이 달라도 넘파이 배열 간 연산 수행이 가능함   \n",
    "* 배열에 차원을 추가하거나 반복해서 배열의 크기를 맞춤\n",
    "\n",
    "    1. 두 배열의 차원 수가 다르다면, 크기가 더 작은 차원이 다른 배열의 shape에 따라 원소가 반복하며 채워진다.\n",
    "    2. 두 배열의 shape이 어떠한 차원에서도 같지 않다면, 1인 배열의 shape은 다른 배열의 shape과 같기 위해 늘어난다.\n",
    "    3. 어떤 차원에서도 크기가 일치 하지 않고, 1이 아니면, 오류 뜬다"
   ]
  },
  {
   "cell_type": "code",
   "execution_count": 144,
   "metadata": {},
   "outputs": [
    {
     "data": {
      "text/plain": [
       "array([[101, 102, 103],\n",
       "       [104, 105, 106],\n",
       "       [107, 108, 109]])"
      ]
     },
     "execution_count": 144,
     "metadata": {},
     "output_type": "execute_result"
    }
   ],
   "source": [
    "matrix+100"
   ]
  },
  {
   "cell_type": "code",
   "execution_count": 98,
   "metadata": {},
   "outputs": [
    {
     "data": {
      "text/plain": [
       "array([[101, 102, 103],\n",
       "       [104, 105, 106],\n",
       "       [107, 108, 109]])"
      ]
     },
     "execution_count": 98,
     "metadata": {},
     "output_type": "execute_result"
    }
   ],
   "source": [
    "matrix + [100, 100, 100]\n",
    "#(3, )의 벡터를 (1,3)크기로 맞춘 후 행을 따라 반복\n",
    "\n",
    "matrix+[[100],\n",
    "        [100],\n",
    "        [100]]\n",
    "#(3,1) 크기의 벡터가 열을 따라 반복"
   ]
  },
  {
   "cell_type": "markdown",
   "metadata": {},
   "source": [
    "***   \n",
    "\n",
    "## 1.7 최댓값, 최솟값 찾기"
   ]
  },
  {
   "cell_type": "code",
   "execution_count": 99,
   "metadata": {},
   "outputs": [],
   "source": [
    "# 넘파이의 max, min 함수 사용\n",
    "import numpy as np\n",
    "matrix = np.array([[1, 2, 3],\n",
    "                   [4, 5, 6],\n",
    "                   [7, 8, 9]])"
   ]
  },
  {
   "cell_type": "markdown",
   "metadata": {},
   "source": [
    "> ### max함수"
   ]
  },
  {
   "cell_type": "code",
   "execution_count": 101,
   "metadata": {},
   "outputs": [
    {
     "data": {
      "text/plain": [
       "9"
      ]
     },
     "execution_count": 101,
     "metadata": {},
     "output_type": "execute_result"
    }
   ],
   "source": [
    "np.max(matrix) #가장 큰 원소 반환"
   ]
  },
  {
   "cell_type": "markdown",
   "metadata": {},
   "source": [
    "> ### min함수"
   ]
  },
  {
   "cell_type": "code",
   "execution_count": 102,
   "metadata": {},
   "outputs": [
    {
     "data": {
      "text/plain": [
       "1"
      ]
     },
     "execution_count": 102,
     "metadata": {},
     "output_type": "execute_result"
    }
   ],
   "source": [
    "np.min(matrix) #가장 작은 원소 반환"
   ]
  },
  {
   "cell_type": "markdown",
   "metadata": {},
   "source": [
    "> >### axis 매개변수   \n",
    "* axis 매개변수를 사용해 특정 축에 따라 연산을 수행 가능"
   ]
  },
  {
   "cell_type": "code",
   "execution_count": 110,
   "metadata": {},
   "outputs": [
    {
     "data": {
      "text/plain": [
       "array([7, 8, 9])"
      ]
     },
     "execution_count": 110,
     "metadata": {},
     "output_type": "execute_result"
    }
   ],
   "source": [
    "np.max(matrix, axis=0) #열따라"
   ]
  },
  {
   "cell_type": "code",
   "execution_count": 122,
   "metadata": {},
   "outputs": [
    {
     "data": {
      "text/plain": [
       "array([3, 6, 9])"
      ]
     },
     "execution_count": 122,
     "metadata": {},
     "output_type": "execute_result"
    }
   ],
   "source": [
    "np.max(matrix, axis=1) #행따라"
   ]
  },
  {
   "cell_type": "markdown",
   "metadata": {},
   "source": [
    "> >### keepdims 매개변수\n",
    "* 위 매개변수를 True로 지정하면 원본 배열의 차원과 동일한 결과 생성   \n",
    "* 원본배열과 안전하게 브로드캐스팅 연산이 가능"
   ]
  },
  {
   "cell_type": "code",
   "execution_count": 134,
   "metadata": {},
   "outputs": [
    {
     "data": {
      "text/plain": [
       "array([[3],\n",
       "       [6],\n",
       "       [9]])"
      ]
     },
     "execution_count": 134,
     "metadata": {},
     "output_type": "execute_result"
    }
   ],
   "source": [
    "vector_column2 = np.max(matrix, axis=1, keepdims=True)\n",
    "#이전과 달리 (3,1)의 열벡터 생성\n",
    "vector_column2"
   ]
  },
  {
   "cell_type": "code",
   "execution_count": 135,
   "metadata": {},
   "outputs": [
    {
     "data": {
      "text/plain": [
       "array([[-2, -4, -6],\n",
       "       [ 1, -1, -3],\n",
       "       [ 4,  2,  0]])"
      ]
     },
     "execution_count": 135,
     "metadata": {},
     "output_type": "execute_result"
    }
   ],
   "source": [
    "vector_column = np.max(matrix, axis=1, keepdims=False)\n",
    "\n",
    "matrix - vector_column"
   ]
  },
  {
   "cell_type": "code",
   "execution_count": 136,
   "metadata": {},
   "outputs": [
    {
     "data": {
      "text/plain": [
       "array([[-2, -1,  0],\n",
       "       [-2, -1,  0],\n",
       "       [-2, -1,  0]])"
      ]
     },
     "execution_count": 136,
     "metadata": {},
     "output_type": "execute_result"
    }
   ],
   "source": [
    "matrix - vector_column2"
   ]
  },
  {
   "cell_type": "code",
   "execution_count": 109,
   "metadata": {},
   "outputs": [
    {
     "data": {
      "text/plain": [
       "array([[1, 2, 3],\n",
       "       [4, 5, 6],\n",
       "       [7, 8, 9]])"
      ]
     },
     "execution_count": 109,
     "metadata": {},
     "output_type": "execute_result"
    }
   ],
   "source": [
    "matrix #안전하게 브로드캐스팅 연산이 된것을 볼 수 있다."
   ]
  },
  {
   "cell_type": "markdown",
   "metadata": {},
   "source": [
    "***   \n",
    "\n",
    "## 1.8 평균, 분산, 표준편차 계산하기"
   ]
  },
  {
   "cell_type": "markdown",
   "metadata": {},
   "source": [
    "> ### mean 함수   \n",
    "평균반환"
   ]
  },
  {
   "cell_type": "code",
   "execution_count": 137,
   "metadata": {},
   "outputs": [
    {
     "data": {
      "text/plain": [
       "5.0"
      ]
     },
     "execution_count": 137,
     "metadata": {},
     "output_type": "execute_result"
    }
   ],
   "source": [
    "import numpy as np\n",
    "matrix = np.array([[1, 2, 3],\n",
    "                   [4, 5, 6],\n",
    "                   [7, 8, 9]])\n",
    "\n",
    "np.mean(matrix)"
   ]
  },
  {
   "cell_type": "code",
   "execution_count": 138,
   "metadata": {},
   "outputs": [
    {
     "data": {
      "text/plain": [
       "array([4., 5., 6.])"
      ]
     },
     "execution_count": 138,
     "metadata": {},
     "output_type": "execute_result"
    }
   ],
   "source": [
    "np.mean(matrix, axis=0) #각 열의 평균을 계산"
   ]
  },
  {
   "cell_type": "markdown",
   "metadata": {},
   "source": [
    "> ### var함수\n",
    "분산 반환"
   ]
  },
  {
   "cell_type": "code",
   "execution_count": 139,
   "metadata": {},
   "outputs": [
    {
     "data": {
      "text/plain": [
       "6.666666666666667"
      ]
     },
     "execution_count": 139,
     "metadata": {},
     "output_type": "execute_result"
    }
   ],
   "source": [
    "np.var(matrix)"
   ]
  },
  {
   "cell_type": "markdown",
   "metadata": {},
   "source": [
    "> ### std함수\n",
    "표준편차 반환"
   ]
  },
  {
   "cell_type": "code",
   "execution_count": 6,
   "metadata": {},
   "outputs": [
    {
     "data": {
      "text/plain": [
       "2.581988897471611"
      ]
     },
     "execution_count": 6,
     "metadata": {},
     "output_type": "execute_result"
    }
   ],
   "source": [
    "np.std(matrix)"
   ]
  },
  {
   "cell_type": "markdown",
   "metadata": {},
   "source": [
    "> > ### ddof매개변수   \n",
    "* 통계학에서 모집단의 샘플 자유도를 고려해 편향되지 않은 분산과 표준편차를 계산해야 한다   \n",
    "* 훈련데이터의 독립적인 샘플 수 = 전체 샘플 수 -1   \n",
    "* np.std와 np.var 함수에서 ddof매개변수를 1로 지정해 편향되지 않은 추정값을 얻을 수 있다.      \n",
    "\n",
    "    1. ddof매개변수의 기본값은 0\n",
    "    2. 판다스 데이터프레임의 std메서드는 ddof(data dgree of freedom) 기본값이 1"
   ]
  },
  {
   "cell_type": "code",
   "execution_count": 142,
   "metadata": {},
   "outputs": [
    {
     "data": {
      "text/plain": [
       "2.7386127875258306"
      ]
     },
     "execution_count": 142,
     "metadata": {},
     "output_type": "execute_result"
    }
   ],
   "source": [
    "np.std(matrix, ddof=1)"
   ]
  },
  {
   "cell_type": "markdown",
   "metadata": {},
   "source": [
    "***   \n",
    "\n",
    "## 1.9 배열 크기 바꾸기"
   ]
  },
  {
   "cell_type": "code",
   "execution_count": 144,
   "metadata": {},
   "outputs": [
    {
     "data": {
      "text/plain": [
       "array([[ 1,  2,  3,  4,  5,  6],\n",
       "       [ 7,  8,  9, 10, 11, 12]])"
      ]
     },
     "execution_count": 144,
     "metadata": {},
     "output_type": "execute_result"
    }
   ],
   "source": [
    "import numpy as np\n",
    "matrix = np.array([[1, 2, 3],\n",
    "                   [4, 5, 6],\n",
    "                   [7, 8, 9],\n",
    "                   [10, 11, 12]])\n",
    "\n",
    "matrix.reshape(2,6) #2x6행렬로 크기 변환"
   ]
  },
  {
   "cell_type": "markdown",
   "metadata": {},
   "source": [
    "> ### reshape 함수\n",
    "* 데이터 동일하게 유지하며 배열의 구조를 변경해 행과 열의 수를 다르게 조작할 수 있다   \n",
    "* 주의!새로운 행렬은 원본과 원소 개수가 같아야 한다.(size사용해 원소 수 확인)\n",
    "* 매개변수 -1은 가능한 많이라는 뜻 \n",
    "  + reshape(1.-1)은 '행 하나에 열은 가능한 많이'의 의미이다.  "
   ]
  },
  {
   "cell_type": "code",
   "execution_count": 145,
   "metadata": {
    "scrolled": false
   },
   "outputs": [
    {
     "data": {
      "text/plain": [
       "array([[ 1,  2,  3,  4,  5,  6,  7,  8,  9, 10, 11, 12]])"
      ]
     },
     "execution_count": 145,
     "metadata": {},
     "output_type": "execute_result"
    }
   ],
   "source": [
    "matrix.reshape(1,-1)"
   ]
  },
  {
   "cell_type": "markdown",
   "metadata": {},
   "source": [
    "> * reshape에 정수 하나 입력 시 그 길이의 1차원 배열을 반환한다."
   ]
  },
  {
   "cell_type": "code",
   "execution_count": 146,
   "metadata": {},
   "outputs": [
    {
     "data": {
      "text/plain": [
       "array([ 1,  2,  3,  4,  5,  6,  7,  8,  9, 10, 11, 12])"
      ]
     },
     "execution_count": 146,
     "metadata": {},
     "output_type": "execute_result"
    }
   ],
   "source": [
    "matrix.reshape(12) \n",
    "# matrix.reshape(-1)을 사용하면 길이 전체를 헤아릴 필요가 없다."
   ]
  },
  {
   "cell_type": "markdown",
   "metadata": {},
   "source": [
    "> * ravel 메서드도 이와 동일한 작업 수행"
   ]
  },
  {
   "cell_type": "code",
   "execution_count": 123,
   "metadata": {},
   "outputs": [
    {
     "data": {
      "text/plain": [
       "array([ 1,  2,  3,  4,  5,  6,  7,  8,  9, 10, 11, 12])"
      ]
     },
     "execution_count": 123,
     "metadata": {},
     "output_type": "execute_result"
    }
   ],
   "source": [
    "matrix.ravel()"
   ]
  },
  {
   "cell_type": "markdown",
   "metadata": {},
   "source": [
    "***   \n",
    "\n",
    "## 1.10 벡터나 행렬 전치하기"
   ]
  },
  {
   "cell_type": "code",
   "execution_count": 150,
   "metadata": {},
   "outputs": [
    {
     "data": {
      "text/plain": [
       "array([[1, 4, 7],\n",
       "       [2, 5, 8],\n",
       "       [3, 6, 9]])"
      ]
     },
     "execution_count": 150,
     "metadata": {},
     "output_type": "execute_result"
    }
   ],
   "source": [
    "import numpy as np\n",
    "matrix = np.array([[1, 2, 3],\n",
    "                   [4, 5, 6],\n",
    "                   [7, 8, 9]])\n",
    "\n",
    "matrix.T"
   ]
  },
  {
   "cell_type": "markdown",
   "metadata": {},
   "source": [
    "### T메서드\n",
    "\n",
    "각 원소의 행과 열의 인덱스를 바꾼다.\n",
    "\n",
    "\n",
    "* 주의! 벡터는 단지 값의 모음이기 때문에 전치할 수 없음\n",
    "   + 대괄호를 두번 사용하면 벡터 전치 가능\n",
    "   + 일반적으로 벡터의 전치는 행 벡터를 열 벡터로 변환 또는 그 반대를 의미\n",
    "   + numpy는 열 벡터 기준"
   ]
  },
  {
   "cell_type": "code",
   "execution_count": 147,
   "metadata": {},
   "outputs": [
    {
     "data": {
      "text/plain": [
       "array([1, 2, 3, 4, 5, 6])"
      ]
     },
     "execution_count": 147,
     "metadata": {},
     "output_type": "execute_result"
    }
   ],
   "source": [
    "np.array([1,2,3,4,5,6]).T"
   ]
  },
  {
   "cell_type": "code",
   "execution_count": 148,
   "metadata": {},
   "outputs": [
    {
     "data": {
      "text/plain": [
       "array([[1],\n",
       "       [2],\n",
       "       [3],\n",
       "       [4],\n",
       "       [5],\n",
       "       [6]])"
      ]
     },
     "execution_count": 148,
     "metadata": {},
     "output_type": "execute_result"
    }
   ],
   "source": [
    "np.array([[1,2,3,4,5,6]]).T"
   ]
  },
  {
   "cell_type": "markdown",
   "metadata": {},
   "source": [
    "> ### transpose 메서드\n",
    "* T메서드 대신 사용가능\n"
   ]
  },
  {
   "cell_type": "code",
   "execution_count": 151,
   "metadata": {},
   "outputs": [
    {
     "data": {
      "text/plain": [
       "array([[1, 4, 7],\n",
       "       [2, 5, 8],\n",
       "       [3, 6, 9]])"
      ]
     },
     "execution_count": 151,
     "metadata": {},
     "output_type": "execute_result"
    }
   ],
   "source": [
    "matrix.transpose()"
   ]
  },
  {
   "cell_type": "markdown",
   "metadata": {},
   "source": [
    "> * 튜플로 바꿀 차원을 직접 지정 가능"
   ]
  },
  {
   "cell_type": "code",
   "execution_count": 152,
   "metadata": {},
   "outputs": [
    {
     "data": {
      "text/plain": [
       "array([[['1', '3', '5'],\n",
       "        ['2', '4', '6']],\n",
       "\n",
       "       [['7', '9', 'B'],\n",
       "        ['8', 'A', 'C']]], dtype='<U11')"
      ]
     },
     "execution_count": 152,
     "metadata": {},
     "output_type": "execute_result"
    }
   ],
   "source": [
    "#2(0)x 3(1)x2(2)행렬 \n",
    "matrix = np.array([[[1,2],\n",
    "                  [3,4],\n",
    "                  [5,6]],\n",
    "                  \n",
    "                 [[7,8],\n",
    "                  [9,'A'],\n",
    "                  ['B','C']]])\n",
    "\n",
    "matrix.transpose((0, 2, 1))\n",
    "#2(0)x 2(2)x3(1)행렬로 변환"
   ]
  },
  {
   "cell_type": "markdown",
   "metadata": {},
   "source": [
    "***\n",
    "\n",
    "## 1.11 행렬 (1차원 배열로) 펼치기"
   ]
  },
  {
   "cell_type": "code",
   "execution_count": 156,
   "metadata": {},
   "outputs": [
    {
     "data": {
      "text/plain": [
       "array([1, 2, 3, 4, 5, 6, 7, 8, 9])"
      ]
     },
     "execution_count": 156,
     "metadata": {},
     "output_type": "execute_result"
    }
   ],
   "source": [
    "import numpy as np\n",
    "matrix = np.array([[1, 2, 3],\n",
    "                   [4, 5, 6],\n",
    "                   [7, 8, 9]])\n",
    "\n",
    "matrix.flatten()"
   ]
  },
  {
   "cell_type": "markdown",
   "metadata": {},
   "source": [
    "> ### flatten 메서드\n",
    "* 행렬을 1차원 배열로 변환하는 간단한 메서드\n",
    "* reshape 메서드와의 차이점 \n",
    "    1. reshape은 넘파이 배열의 뷰를 반환 vs flatten은 새로운 배열 생성"
   ]
  },
  {
   "cell_type": "code",
   "execution_count": 157,
   "metadata": {},
   "outputs": [
    {
     "data": {
      "text/plain": [
       "array([-1,  2,  3,  4,  5,  6,  7,  8,  9])"
      ]
     },
     "execution_count": 157,
     "metadata": {},
     "output_type": "execute_result"
    }
   ],
   "source": [
    "vector_reshaped = matrix.reshape(-1)\n",
    "vector_flattened = matrix.flatten()\n",
    "\n",
    "#(0,0) 위치의 원소를 바꿔준다\n",
    "matrix[0][0]= -1\n",
    "\n",
    "vector_reshaped"
   ]
  },
  {
   "cell_type": "code",
   "execution_count": 158,
   "metadata": {},
   "outputs": [
    {
     "data": {
      "text/plain": [
       "array([ -1, 100,   3,   4,   5,   6,   7,   8,   9])"
      ]
     },
     "execution_count": 158,
     "metadata": {},
     "output_type": "execute_result"
    }
   ],
   "source": [
    "matrix[0,1]=100\n",
    "\n",
    "vector_reshaped"
   ]
  },
  {
   "cell_type": "code",
   "execution_count": 159,
   "metadata": {},
   "outputs": [
    {
     "data": {
      "text/plain": [
       "array([1, 2, 3, 4, 5, 6, 7, 8, 9])"
      ]
     },
     "execution_count": 159,
     "metadata": {},
     "output_type": "execute_result"
    }
   ],
   "source": [
    "vector_flattened"
   ]
  },
  {
   "cell_type": "markdown",
   "metadata": {},
   "source": [
    ">      2. 원본 배열에서 변경된 내용 반영 vs 배열을 복사해 새 배열을 생성하기 때문에 반영되지 않음"
   ]
  },
  {
   "cell_type": "markdown",
   "metadata": {},
   "source": [
    "***\n",
    "\n",
    "## 1.12 행렬의 랭크 구하기"
   ]
  },
  {
   "cell_type": "code",
   "execution_count": 20,
   "metadata": {},
   "outputs": [
    {
     "data": {
      "text/plain": [
       "2"
      ]
     },
     "execution_count": 20,
     "metadata": {},
     "output_type": "execute_result"
    }
   ],
   "source": [
    "import numpy as np\n",
    "matrix = np.array([[1, 1, 1],\n",
    "                   [1, 1, 10],\n",
    "                   [1, 1, 15]])\n",
    "# 첫번째 열과 두번째 열이 동일 -> 독립적인 열이 2개\n",
    "\n",
    "np.linalg.matrix_rank(matrix) "
   ]
  },
  {
   "cell_type": "markdown",
   "metadata": {},
   "source": [
    "> ## matrix_rank 선행대수 메서드   \n",
    "* 행렬의 랭크는 선형 독립적인 행 또는 열의 개수이다.   \n",
    "* matrix_rank를 통해 행렬의 랭크를 쉽게 찾을 수 있다.   \n",
    "* 특잇값 분해 방식으로 랭크를 계산\n",
    "> > linalg() 모듈의 svd함수로 singular value decomposition을 구한 다음 0이 아닌 값 수를 헤아린다.\n",
    "\n",
    "> ### np.linalg   \n",
    "* 행렬 서브패키지\n",
    "\n",
    "> ### svd(특이값 분해)\n",
    "* 특이값으로 구성된 대각 행렬 S에서 0으로 이루어진 추가 행 또는 열을 제거\n",
    "* u 표현식 A = U*S*V'에서 이러한 0과 곱해질 U 또는 V의 열도 제거\n",
    "-    + 0과 열을 제거하면 분해의 정확도에 영향을 미치지 않으면서 실행 시간을 개선하고 필요한 저장 공간을 줄일 수 있다."
   ]
  },
  {
   "cell_type": "code",
   "execution_count": 160,
   "metadata": {},
   "outputs": [
    {
     "data": {
      "text/plain": [
       "3"
      ]
     },
     "execution_count": 160,
     "metadata": {},
     "output_type": "execute_result"
    }
   ],
   "source": [
    "# svd 함수로 특잇값만 계산\n",
    "s = np.linalg.svd(matrix, compute_uv=False)\n",
    "#오차를 고려해 0에 가까운 아주 작은 값을 지정\n",
    "np.sum(s > 1e-10)"
   ]
  },
  {
   "cell_type": "code",
   "execution_count": 161,
   "metadata": {},
   "outputs": [
    {
     "data": {
      "text/plain": [
       "array([100.52480472,  13.25008516,   0.44595859])"
      ]
     },
     "execution_count": 161,
     "metadata": {},
     "output_type": "execute_result"
    }
   ],
   "source": [
    "np.linalg.svd(matrix, compute_uv=False)"
   ]
  },
  {
   "cell_type": "code",
   "execution_count": 162,
   "metadata": {},
   "outputs": [],
   "source": [
    "?np.sum"
   ]
  },
  {
   "cell_type": "markdown",
   "metadata": {},
   "source": [
    "***\n",
    "\n",
    "## 1.13 행렬식 계산하기"
   ]
  },
  {
   "cell_type": "markdown",
   "metadata": {},
   "source": [
    "> ### 행렬식\n",
    "* 정사각행렬이 나타내는 선형 변환이 부피를 확대시키는 정도를 나타냄\n",
    "* 정방행렬에 의한 선형 변환의 특징을 나타내는 스칼라 값이다.\n",
    "> > ##### 정방행렬\n",
    "이란 nxn 행렬\n",
    "* 정의 : n × n  정사각행렬의 집합을 Mat(n;K)로 쓰면, 행렬식은 다음 세조건을 만족시키는 유일한 함수 det: Mat(n;K) -> K 이다.\n",
    "    1. 각 행에 대해 선형적이다.\n",
    "    2. 두 행이 같은 행렬의 행렬식은 0이며, 행렬의 두 행을 교환하면 행렬식은 반수가 된다.\n",
    "    3. 단위 행렬의 행렬식은 1이다.\n",
    "* 예시\n",
    "    1. 0X0 행렬 : det()=1\n",
    "    2. 1X1 행렬 : det(a)=a\n",
    "    3. 2X2 행렬 : det([[a,b],[c, d]]) = ad-bc\n",
    "    4. 3x3 행렬 : det([[a,b,c],[d,e,f],[g,h,i]])= aei+bfg+cdh-ceg-bdi-afh   \n",
    "     = a det([[e,f], [h,i]])-b det([d,f],[g.i])+c det([d,e],[g,h])"
   ]
  },
  {
   "cell_type": "code",
   "execution_count": 26,
   "metadata": {},
   "outputs": [
    {
     "data": {
      "text/plain": [
       "0.0"
      ]
     },
     "execution_count": 26,
     "metadata": {},
     "output_type": "execute_result"
    }
   ],
   "source": [
    "import numpy as np\n",
    "matrix = np.array([[1, 2, 3],\n",
    "                   [2, 4, 6],\n",
    "                   [3, 8, 9]])\n",
    "\n",
    "np.linalg.det(matrix)"
   ]
  },
  {
   "cell_type": "markdown",
   "metadata": {},
   "source": [
    "> ## det 메소드\n",
    "*행렬식 계산 메소드"
   ]
  },
  {
   "cell_type": "markdown",
   "metadata": {},
   "source": [
    "***\n",
    "\n",
    "## 1.14 행렬의 대각원소 추출하기"
   ]
  },
  {
   "cell_type": "markdown",
   "metadata": {},
   "source": [
    "> ### diagonal메서드\n",
    "* 대각원소 반환   \n",
    "* 원본 배열의 뷰 반환, 반환된 배열의 원소를 바꾸려면 배열을 복사해 사용해야 함"
   ]
  },
  {
   "cell_type": "code",
   "execution_count": 27,
   "metadata": {},
   "outputs": [
    {
     "data": {
      "text/plain": [
       "array([1, 4, 9])"
      ]
     },
     "execution_count": 27,
     "metadata": {},
     "output_type": "execute_result"
    }
   ],
   "source": [
    "import numpy as np\n",
    "matrix = np.array([[1, 2, 3],\n",
    "                   [2, 4, 6],\n",
    "                   [3, 8, 9]])\n",
    "\n",
    "\n",
    "matrix.diagonal()"
   ]
  },
  {
   "cell_type": "markdown",
   "metadata": {},
   "source": [
    "> * 넘파이 diag함수도 대각원소를 추출   \n",
    "1차원 배열이 주어졌을때 역으로 대각행렬 생성"
   ]
  },
  {
   "cell_type": "code",
   "execution_count": 31,
   "metadata": {},
   "outputs": [
    {
     "name": "stdout",
     "output_type": "stream",
     "text": [
      "[1 4 9]\n"
     ]
    }
   ],
   "source": [
    "#반환된 배열 변경을 위해선 복사\n",
    "a=matrix.diagonal().copy()\n",
    "\n",
    "a=np.diag(matrix)\n",
    "print(a)"
   ]
  },
  {
   "cell_type": "code",
   "execution_count": 32,
   "metadata": {},
   "outputs": [
    {
     "data": {
      "text/plain": [
       "array([[1, 0, 0],\n",
       "       [0, 4, 0],\n",
       "       [0, 0, 9]])"
      ]
     },
     "execution_count": 32,
     "metadata": {},
     "output_type": "execute_result"
    }
   ],
   "source": [
    "#1차원 배열이 주어지면 2차원 대각행렬 생성\n",
    "np.diag(a)"
   ]
  },
  {
   "cell_type": "markdown",
   "metadata": {},
   "source": [
    "> * offset매개변수   \n",
    "주 대각선에서 벗어난 대각원소를 얻을 수 있다"
   ]
  },
  {
   "cell_type": "code",
   "execution_count": 29,
   "metadata": {},
   "outputs": [
    {
     "data": {
      "text/plain": [
       "array([2, 6])"
      ]
     },
     "execution_count": 29,
     "metadata": {},
     "output_type": "execute_result"
    }
   ],
   "source": [
    "matrix.diagonal(offset=1)\n",
    "# 주대각선 하나 위의 대각원소를 반환"
   ]
  },
  {
   "cell_type": "code",
   "execution_count": 30,
   "metadata": {},
   "outputs": [
    {
     "data": {
      "text/plain": [
       "array([2, 8])"
      ]
     },
     "execution_count": 30,
     "metadata": {},
     "output_type": "execute_result"
    }
   ],
   "source": [
    "matrix.diagonal(offset=-1)\n",
    "# 주대각선 하나 아래의 대각원소를 반환"
   ]
  },
  {
   "cell_type": "markdown",
   "metadata": {},
   "source": [
    "***\n",
    "\n",
    "## 1.15 행렬의 대각합 계산하기"
   ]
  },
  {
   "cell_type": "code",
   "execution_count": 33,
   "metadata": {},
   "outputs": [
    {
     "data": {
      "text/plain": [
       "14"
      ]
     },
     "execution_count": 33,
     "metadata": {},
     "output_type": "execute_result"
    }
   ],
   "source": [
    "import numpy as np\n",
    "matrix = np.array([[1, 2, 3],\n",
    "                   [2, 4, 6],\n",
    "                   [3, 8, 9]])\n",
    "\n",
    "matrix.trace()"
   ]
  },
  {
   "cell_type": "markdown",
   "metadata": {},
   "source": [
    "> ### trace 메서드\n",
    "* **대각합을 반환한다**\n",
    "* 행렬의 대각원소를 직접 더하는 ```\n",
    "sum(matrix.diagonal())\n",
    "```와 같다   \n",
    "* offset 매개변수를 지원"
   ]
  },
  {
   "cell_type": "code",
   "execution_count": 34,
   "metadata": {},
   "outputs": [
    {
     "data": {
      "text/plain": [
       "8"
      ]
     },
     "execution_count": 34,
     "metadata": {},
     "output_type": "execute_result"
    }
   ],
   "source": [
    "#주 대각선 하나위의 대각원소의 합을 반환\n",
    "matrix.trace(offset=1)"
   ]
  },
  {
   "cell_type": "markdown",
   "metadata": {},
   "source": [
    "***\n",
    "## 1.16 고윳값과 고유벡터 찾기"
   ]
  },
  {
   "cell_type": "code",
   "execution_count": 163,
   "metadata": {},
   "outputs": [
    {
     "data": {
      "text/plain": [
       "array([13.55075847,  0.74003145, -3.29078992])"
      ]
     },
     "execution_count": 163,
     "metadata": {},
     "output_type": "execute_result"
    }
   ],
   "source": [
    "import numpy as np\n",
    "matrix = np.array([[1,-1,3],\n",
    "                  [1,1,6],\n",
    "                  [3,8,9]])\n",
    "\n",
    "#고유값, 고유벡터를 계산\n",
    "eigenvalues, eigenvectors = np.linalg.eig(matrix)\n",
    "\n",
    "eigenvalues"
   ]
  },
  {
   "cell_type": "code",
   "execution_count": 164,
   "metadata": {},
   "outputs": [
    {
     "data": {
      "text/plain": [
       "array([[-0.17622017, -0.96677403, -0.53373322],\n",
       "       [-0.435951  ,  0.2053623 , -0.64324848],\n",
       "       [-0.88254925,  0.15223105,  0.54896288]])"
      ]
     },
     "execution_count": 164,
     "metadata": {},
     "output_type": "execute_result"
    }
   ],
   "source": [
    "eigenvectors"
   ]
  },
  {
   "cell_type": "markdown",
   "metadata": {},
   "source": [
    "> ### 고유벡터  \n",
    ": 스케일만 바뀌는 벡터(방향은 바뀌지 않음)   \n",
    "* **Av=λv**(λ:고유값, v: 고유벡터)\n",
    "\n",
    "> ### linalg.eig 함수\n",
    "* 정방행렬의 고유값과 고유벡터를 계산\n",
    "* 대칭행렬일 경우 더 빠르게 계산 가능\n",
    "* 입력되는 값이 진짜 대칭행렬인지 검사하지 않는다"
   ]
  },
  {
   "cell_type": "markdown",
   "metadata": {},
   "source": [
    "***\n",
    "## 1.17점곱 계산하기 "
   ]
  },
  {
   "cell_type": "code",
   "execution_count": 40,
   "metadata": {},
   "outputs": [
    {
     "data": {
      "text/plain": [
       "32"
      ]
     },
     "execution_count": 40,
     "metadata": {},
     "output_type": "execute_result"
    }
   ],
   "source": [
    "import numpy as np\n",
    "\n",
    "#두 벡터를 만든다\n",
    "vector_a = np.array([1, 2, 3])\n",
    "vector_b = np.array([4, 5, 6])\n",
    "\n",
    "#점곱 계산\n",
    "np.dot(vector_a, vector_b)"
   ]
  },
  {
   "cell_type": "markdown",
   "metadata": {},
   "source": [
    "> 두 벡터 a와 b의 점곱 : (a1 x b1)+(a2 x b2)+...+(an x bn)\n",
    "> ### dot함수\n",
    "를 사용해 점곱 계산 가능\n",
    "* @연산자로도 가능"
   ]
  },
  {
   "cell_type": "markdown",
   "metadata": {},
   "source": [
    "> > #### @연산자\n",
    "* 사실 np.dot이 아닌 np.matmul함수를 나타냄\n",
    "* np.dot과 달리 스칼라 배열에 적용되지 않는다"
   ]
  },
  {
   "cell_type": "code",
   "execution_count": 41,
   "metadata": {},
   "outputs": [
    {
     "data": {
      "text/plain": [
       "2"
      ]
     },
     "execution_count": 41,
     "metadata": {},
     "output_type": "execute_result"
    }
   ],
   "source": [
    "scalar_a = np.array(1)\n",
    "scalar_b = np.array(2)\n",
    "np.dot(scalar_a, scalar_b)"
   ]
  },
  {
   "cell_type": "code",
   "execution_count": 43,
   "metadata": {},
   "outputs": [
    {
     "ename": "ValueError",
     "evalue": "matmul: Input operand 0 does not have enough dimensions (has 0, gufunc core with signature (n?,k),(k,m?)->(n?,m?) requires 1)",
     "output_type": "error",
     "traceback": [
      "\u001b[1;31m---------------------------------------------------------------------------\u001b[0m",
      "\u001b[1;31mValueError\u001b[0m                                Traceback (most recent call last)",
      "\u001b[1;32m<ipython-input-43-71ea02cee68d>\u001b[0m in \u001b[0;36m<module>\u001b[1;34m\u001b[0m\n\u001b[0;32m      1\u001b[0m \u001b[1;31m#스칼라 배열 적용x\u001b[0m\u001b[1;33m\u001b[0m\u001b[1;33m\u001b[0m\u001b[1;33m\u001b[0m\u001b[0m\n\u001b[1;32m----> 2\u001b[1;33m \u001b[0mscalar_a\u001b[0m \u001b[1;33m@\u001b[0m \u001b[0mscalar_b\u001b[0m\u001b[1;33m\u001b[0m\u001b[1;33m\u001b[0m\u001b[0m\n\u001b[0m",
      "\u001b[1;31mValueError\u001b[0m: matmul: Input operand 0 does not have enough dimensions (has 0, gufunc core with signature (n?,k),(k,m?)->(n?,m?) requires 1)"
     ]
    }
   ],
   "source": [
    "#스칼라 배열 적용x\n",
    "scalar_a @ scalar_b"
   ]
  },
  {
   "cell_type": "markdown",
   "metadata": {},
   "source": [
    "***\n",
    "## 1.18 행렬 덧셈 뺄셈"
   ]
  },
  {
   "cell_type": "markdown",
   "metadata": {},
   "source": [
    "> ### add메서드\n",
    "두 행렬 더함\n",
    "> ### subtract메서드\n",
    "두 행렬 뺌\n",
    "\n",
    "* 간단하게 +와 - 연산자도 사용 가능"
   ]
  },
  {
   "cell_type": "code",
   "execution_count": 44,
   "metadata": {},
   "outputs": [
    {
     "data": {
      "text/plain": [
       "array([[ 2,  4,  2],\n",
       "       [ 2,  4,  2],\n",
       "       [ 2,  4, 10]])"
      ]
     },
     "execution_count": 44,
     "metadata": {},
     "output_type": "execute_result"
    }
   ],
   "source": [
    "import numpy as np\n",
    "\n",
    "matrix_a = np.array([[1, 1, 1],\n",
    "                     [1, 1, 1],\n",
    "                     [1, 1, 2]])\n",
    "\n",
    "matrix_b = np.array([[1, 3, 1],\n",
    "                     [1, 3, 1],\n",
    "                     [1, 3, 8]])\n",
    "\n",
    "np.add(matrix_a, matrix_b)"
   ]
  },
  {
   "cell_type": "code",
   "execution_count": 45,
   "metadata": {},
   "outputs": [
    {
     "data": {
      "text/plain": [
       "array([[ 0, -2,  0],\n",
       "       [ 0, -2,  0],\n",
       "       [ 0, -2, -6]])"
      ]
     },
     "execution_count": 45,
     "metadata": {},
     "output_type": "execute_result"
    }
   ],
   "source": [
    "np.subtract(matrix_a, matrix_b)"
   ]
  },
  {
   "cell_type": "code",
   "execution_count": 46,
   "metadata": {},
   "outputs": [
    {
     "data": {
      "text/plain": [
       "array([[ 2,  4,  2],\n",
       "       [ 2,  4,  2],\n",
       "       [ 2,  4, 10]])"
      ]
     },
     "execution_count": 46,
     "metadata": {},
     "output_type": "execute_result"
    }
   ],
   "source": [
    "matrix_a + matrix_b"
   ]
  },
  {
   "cell_type": "markdown",
   "metadata": {},
   "source": [
    "***\n",
    "## 1.19 행렬 곱셈"
   ]
  },
  {
   "cell_type": "code",
   "execution_count": 48,
   "metadata": {},
   "outputs": [
    {
     "data": {
      "text/plain": [
       "array([[2, 5],\n",
       "       [3, 7]])"
      ]
     },
     "execution_count": 48,
     "metadata": {},
     "output_type": "execute_result"
    }
   ],
   "source": [
    "import numpy as np\n",
    "matrix_a = np.array([[1,1],\n",
    "                    [1,2]])\n",
    "matrix_b = np.array([[1,3],\n",
    "                    [1,2]])\n",
    "\n",
    "# 두 행렬을 곱함\n",
    "np.dot(matrix_a, matrix_b)"
   ]
  },
  {
   "cell_type": "code",
   "execution_count": 49,
   "metadata": {},
   "outputs": [
    {
     "data": {
      "text/plain": [
       "array([[2, 5],\n",
       "       [3, 7]])"
      ]
     },
     "execution_count": 49,
     "metadata": {},
     "output_type": "execute_result"
    }
   ],
   "source": [
    "matrix_a @ matrix_b "
   ]
  },
  {
   "cell_type": "code",
   "execution_count": 50,
   "metadata": {},
   "outputs": [
    {
     "data": {
      "text/plain": [
       "array([[1, 3],\n",
       "       [1, 4]])"
      ]
     },
     "execution_count": 50,
     "metadata": {},
     "output_type": "execute_result"
    }
   ],
   "source": [
    "#원소별 곱셈을 수행하려면 * 연산자 사용\n",
    "matrix_a * matrix_b"
   ]
  },
  {
   "cell_type": "markdown",
   "metadata": {},
   "source": []
  },
  {
   "cell_type": "markdown",
   "metadata": {},
   "source": [
    "> > np.dot함수\n",
    "1. 다차원 배열에 적용 가능\n",
    "2. 첫번째 배열의 마지막 차원과 두번째 배열의 끝에서 두번째 차원이 동일해야 함   \n",
    "    * (a,b,c,D)크기의 배열과 (e,f,D,h)크기의 배열이 있을 때   두 배열의 점곱 결과는 (a,b,c,e,f,h) 크기의 배열\n",
    "\n",
    "> > np.matmul 함수와 @연산자\n",
    "1. 다차원 배열을 마지막 두 차원이 단순히 쌓인 것으로 취급\n",
    "    * (a,b,c,D)크기의 배열과 (e,f,D,h)크기의 배열이 있을 때 a와 e가 같거나 둘 중 하나는 1이어야 함,   \n",
    "    또한 b와 f가 같거나 둘 중 하나가 1이어야 함\n",
    "    * 연산의 결과 (a', b', c, h) 크기의 배열을 만든다.  \n",
    "    (a'는 a와 e 중 1이 아닌 값,   \n",
    "    b'는 b와 f 중 1이 아닌 값)"
   ]
  },
  {
   "cell_type": "code",
   "execution_count": 171,
   "metadata": {},
   "outputs": [
    {
     "data": {
      "text/plain": [
       "(2, 1, 4, 1, 3, 6)"
      ]
     },
     "execution_count": 171,
     "metadata": {},
     "output_type": "execute_result"
    }
   ],
   "source": [
    "a = np.random.rand(2,1,4,5)\n",
    "b = np.random.rand(1,3,5,6) \n",
    "\n",
    "np.dot(a,b).shape"
   ]
  },
  {
   "cell_type": "code",
   "execution_count": 172,
   "metadata": {},
   "outputs": [
    {
     "data": {
      "text/plain": [
       "array([[[[0.53657921, 0.89667129, 0.99033895, 0.21689698, 0.6630782 ],\n",
       "         [0.26332238, 0.020651  , 0.75837865, 0.32001715, 0.38346389],\n",
       "         [0.58831711, 0.83104846, 0.62898184, 0.87265066, 0.27354203],\n",
       "         [0.79804683, 0.18563594, 0.95279166, 0.68748828, 0.21550768]]],\n",
       "\n",
       "\n",
       "       [[[0.94737059, 0.73085581, 0.25394164, 0.21331198, 0.51820071],\n",
       "         [0.02566272, 0.20747008, 0.42468547, 0.37416998, 0.46357542],\n",
       "         [0.27762871, 0.58678435, 0.86385561, 0.11753186, 0.51737911],\n",
       "         [0.13206811, 0.71685968, 0.3960597 , 0.56542131, 0.18327984]]]])"
      ]
     },
     "execution_count": 172,
     "metadata": {},
     "output_type": "execute_result"
    }
   ],
   "source": [
    "a"
   ]
  },
  {
   "cell_type": "code",
   "execution_count": 173,
   "metadata": {},
   "outputs": [
    {
     "data": {
      "text/plain": [
       "array([[[[0.14484776, 0.48805628, 0.35561274, 0.94043195, 0.76532525,\n",
       "          0.74866362],\n",
       "         [0.90371974, 0.08342244, 0.55219247, 0.58447607, 0.96193638,\n",
       "          0.29214753],\n",
       "         [0.24082878, 0.10029394, 0.01642963, 0.92952932, 0.66991655,\n",
       "          0.78515291],\n",
       "         [0.28173011, 0.58641017, 0.06395527, 0.4856276 , 0.97749514,\n",
       "          0.87650525],\n",
       "         [0.33815895, 0.96157015, 0.23170163, 0.94931882, 0.9413777 ,\n",
       "          0.79920259]],\n",
       "\n",
       "        [[0.63044794, 0.87428797, 0.29302028, 0.84894356, 0.61787669,\n",
       "          0.01323686],\n",
       "         [0.34723352, 0.14814086, 0.98182939, 0.47837031, 0.49739137,\n",
       "          0.63947252],\n",
       "         [0.36858461, 0.13690027, 0.82211773, 0.18984791, 0.51131898,\n",
       "          0.22431703],\n",
       "         [0.09784448, 0.86219152, 0.97291949, 0.96083466, 0.9065555 ,\n",
       "          0.77404733],\n",
       "         [0.33314515, 0.08110139, 0.40724117, 0.23223414, 0.13248763,\n",
       "          0.05342718]],\n",
       "\n",
       "        [[0.72559436, 0.01142746, 0.77058075, 0.14694665, 0.07952208,\n",
       "          0.08960303],\n",
       "         [0.67204781, 0.24536721, 0.42053947, 0.55736879, 0.86055117,\n",
       "          0.72704426],\n",
       "         [0.27032791, 0.1314828 , 0.05537432, 0.30159863, 0.26211815,\n",
       "          0.45614057],\n",
       "         [0.68328134, 0.69562545, 0.28351885, 0.37992696, 0.18115096,\n",
       "          0.78854551],\n",
       "         [0.05684808, 0.69699724, 0.7786954 , 0.77740756, 0.25942256,\n",
       "          0.37381314]]]])"
      ]
     },
     "execution_count": 173,
     "metadata": {},
     "output_type": "execute_result"
    }
   ],
   "source": [
    "b"
   ]
  },
  {
   "cell_type": "code",
   "execution_count": 56,
   "metadata": {},
   "outputs": [
    {
     "data": {
      "text/plain": [
       "(2, 3, 4, 6)"
      ]
     },
     "execution_count": 56,
     "metadata": {},
     "output_type": "execute_result"
    }
   ],
   "source": [
    "np.matmul(a,b).shape"
   ]
  },
  {
   "cell_type": "markdown",
   "metadata": {},
   "source": [
    "***\n",
    "## 1.20 역행렬"
   ]
  },
  {
   "cell_type": "markdown",
   "metadata": {},
   "source": [
    "> 정방행렬 A의 역행렬을 A'라 하면   \n",
    "**AA'= I**(I는 단위 행렬)   \n",
    "이 성립된다."
   ]
  },
  {
   "cell_type": "code",
   "execution_count": 176,
   "metadata": {},
   "outputs": [
    {
     "data": {
      "text/plain": [
       "array([[-1.66666667,  1.33333333],\n",
       "       [ 0.66666667, -0.33333333]])"
      ]
     },
     "execution_count": 176,
     "metadata": {},
     "output_type": "execute_result"
    }
   ],
   "source": [
    "import numpy as np\n",
    "matrix = np.array([[1, 4],\n",
    "                  [2, 5]])\n",
    "\n",
    "#역행렬을 계산한다\n",
    "np.linalg.inv(matrix)"
   ]
  },
  {
   "cell_type": "markdown",
   "metadata": {},
   "source": [
    "> ###linalg.inv 함수\n",
    "* 역행렬 A'를 계산한다"
   ]
  },
  {
   "cell_type": "code",
   "execution_count": 177,
   "metadata": {},
   "outputs": [
    {
     "data": {
      "text/plain": [
       "array([[1., 0.],\n",
       "       [0., 1.]])"
      ]
     },
     "execution_count": 177,
     "metadata": {},
     "output_type": "execute_result"
    }
   ],
   "source": [
    "# 행렬과 역행렬을 곱해 단위행렬을 확인한다\n",
    "matrix @ np.linalg.inv(matrix)"
   ]
  },
  {
   "cell_type": "markdown",
   "metadata": {},
   "source": [
    "> ### pinv함수\n",
    "* 정방행렬이 아닌 행렬의 역행렬을 계산 = ***유사 역행렬***"
   ]
  },
  {
   "cell_type": "code",
   "execution_count": 180,
   "metadata": {},
   "outputs": [
    {
     "data": {
      "text/plain": [
       "array([[-1.16666667,  1.        ],\n",
       "       [-0.33333333,  0.33333333],\n",
       "       [ 0.5       , -0.33333333]])"
      ]
     },
     "execution_count": 180,
     "metadata": {},
     "output_type": "execute_result"
    }
   ],
   "source": [
    "matrix = np.array([[1,4,7],\n",
    "                  [2,5,8]])\n",
    "\n",
    "np.linalg.pinv(matrix)`"
   ]
  },
  {
   "cell_type": "code",
   "execution_count": 181,
   "metadata": {},
   "outputs": [
    {
     "data": {
      "text/plain": [
       "array([[1.00000000e+00, 2.22044605e-15],\n",
       "       [1.77635684e-15, 1.00000000e+00]])"
      ]
     },
     "execution_count": 181,
     "metadata": {},
     "output_type": "execute_result"
    }
   ],
   "source": [
    "matrix @ np.linalg.pinv(matrix)"
   ]
  },
  {
   "cell_type": "code",
   "execution_count": null,
   "metadata": {},
   "outputs": [],
   "source": []
  },
  {
   "cell_type": "markdown",
   "metadata": {},
   "source": [
    "***\n",
    "## 1.21 난수 생성하기"
   ]
  },
  {
   "cell_type": "markdown",
   "metadata": {},
   "source": [
    "넘파이의 ***random 모듈*** 사용\n",
    "> 1. 실수 난수 생성 → **random 함수**사용"
   ]
  },
  {
   "cell_type": "code",
   "execution_count": 76,
   "metadata": {},
   "outputs": [
    {
     "data": {
      "text/plain": [
       "array([0.5488135 , 0.71518937, 0.60276338])"
      ]
     },
     "execution_count": 76,
     "metadata": {},
     "output_type": "execute_result"
    }
   ],
   "source": [
    "import numpy as np\n",
    "np.random.seed(0) #초깃값 지정 -> 위험\n",
    "\n",
    "#0.0과 1.0 사이 3개의 실수 난수 생성\n",
    "np.random.random(3)"
   ]
  },
  {
   "cell_type": "markdown",
   "metadata": {},
   "source": [
    "> 2. 정수 난수 생성 → **randint 함수** 사용"
   ]
  },
  {
   "cell_type": "code",
   "execution_count": 182,
   "metadata": {},
   "outputs": [
    {
     "data": {
      "text/plain": [
       "array([[7, 5, 5],\n",
       "       [8, 0, 8],\n",
       "       [3, 6, 9]])"
      ]
     },
     "execution_count": 182,
     "metadata": {},
     "output_type": "execute_result"
    }
   ],
   "source": [
    "#0과 10 사이 3개의 정수난수 생성\n",
    "np.random.randint(0, 11, (3,3))"
   ]
  },
  {
   "cell_type": "markdown",
   "metadata": {},
   "source": [
    "> 3. 분포 설정해 그 속에서 난수 생성하기"
   ]
  },
  {
   "cell_type": "code",
   "execution_count": 78,
   "metadata": {},
   "outputs": [
    {
     "data": {
      "text/plain": [
       "array([-1.42232584,  1.52006949, -0.29139398])"
      ]
     },
     "execution_count": 78,
     "metadata": {},
     "output_type": "execute_result"
    }
   ],
   "source": [
    "# 1) 평균이 0.0이고 표준편차가 1.0인 정규분포에서 3개의 난수 생성\n",
    "np.random.normal(0.0, 1.0, 3)"
   ]
  },
  {
   "cell_type": "code",
   "execution_count": 79,
   "metadata": {},
   "outputs": [
    {
     "data": {
      "text/plain": [
       "array([-0.98118713, -0.08939902,  1.46416405])"
      ]
     },
     "execution_count": 79,
     "metadata": {},
     "output_type": "execute_result"
    }
   ],
   "source": [
    "# 2) 평균이 0.0이고 스케일이 1.0인 로지스틱 분포에서 3개 난수 생성\n",
    "np.random.logistic(0.0, 1.0, 3)"
   ]
  },
  {
   "cell_type": "code",
   "execution_count": 80,
   "metadata": {},
   "outputs": [
    {
     "data": {
      "text/plain": [
       "array([1.47997717, 1.3927848 , 1.83607876])"
      ]
     },
     "execution_count": 80,
     "metadata": {},
     "output_type": "execute_result"
    }
   ],
   "source": [
    "# 3)1.0보다 크거나 같고 2.0보다 작은 3개의 난수 생성\n",
    "np.random.uniform(1.0, 2.0, 3)"
   ]
  },
  {
   "cell_type": "markdown",
   "metadata": {},
   "source": [
    "* 동일한 seed을 지닌 난수 생성은 항상 같은 결과를 출력한다."
   ]
  },
  {
   "cell_type": "markdown",
   "metadata": {},
   "source": [
    "> #### 1. random 함수, sample 함수   \n",
    "= random_sample 함수   \n",
    "= uniform 함수(최솟값 0.0 최댓값 1.0으로 지정) "
   ]
  },
  {
   "cell_type": "code",
   "execution_count": 84,
   "metadata": {},
   "outputs": [
    {
     "data": {
      "text/plain": [
       "array([[0.53737323, 0.75861562, 0.10590761],\n",
       "       [0.47360042, 0.18633234, 0.73691818]])"
      ]
     },
     "execution_count": 84,
     "metadata": {},
     "output_type": "execute_result"
    }
   ],
   "source": [
    "np.random.random_sample((2,3))\n",
    "#np.random.random((2,3)), np.random.sample((2,3))과 동일 \n",
    "#np.random.uniform(0.0, 1.0, (2, 3))과 동일 "
   ]
  },
  {
   "cell_type": "markdown",
   "metadata": {},
   "source": [
    "> #### 2.rand함수\n",
    "* 크기를 튜플이 아니라 개별적인 매개변수로 전달"
   ]
  },
  {
   "cell_type": "code",
   "execution_count": 83,
   "metadata": {},
   "outputs": [
    {
     "data": {
      "text/plain": [
       "array([[0.47360805, 0.80091075, 0.52047748],\n",
       "       [0.67887953, 0.72063265, 0.58201979]])"
      ]
     },
     "execution_count": 83,
     "metadata": {},
     "output_type": "execute_result"
    }
   ],
   "source": [
    "np.random.rand(2,3)\n",
    "#np.random.random_sample((2,3))과 동일"
   ]
  },
  {
   "cell_type": "markdown",
   "metadata": {},
   "source": [
    "> #### 3.randint함수\n",
    "* 최솟값을 포함하고 최댓값은 포함하지 않은 정수 난수 생성"
   ]
  },
  {
   "cell_type": "code",
   "execution_count": 85,
   "metadata": {},
   "outputs": [
    {
     "data": {
      "text/plain": [
       "array([0, 0, 0, 0, 0, 0, 0, 0, 0, 0])"
      ]
     },
     "execution_count": 85,
     "metadata": {},
     "output_type": "execute_result"
    }
   ],
   "source": [
    "np.random.randint(0,1,10)"
   ]
  },
  {
   "cell_type": "markdown",
   "metadata": {},
   "source": [
    "> #### 4. standard_normal함수\n",
    "* 평균이 0.0이고 표준편차가 1.0인 정규분포의 난수 생성\n",
    "* normal함수와 동일\n",
    "> > 4.1 rand 함수\n",
    " * 위 함수와 동일하나, 크기를 튜플이 아닌 개별적인 매개변수로 전달"
   ]
  },
  {
   "cell_type": "code",
   "execution_count": 89,
   "metadata": {},
   "outputs": [
    {
     "data": {
      "text/plain": [
       "array([[-0.38093141,  0.11495917,  0.34531264],\n",
       "       [-1.73495876,  1.65835111,  2.29977152]])"
      ]
     },
     "execution_count": 89,
     "metadata": {},
     "output_type": "execute_result"
    }
   ],
   "source": [
    "np.random.standard_normal((2,3))"
   ]
  },
  {
   "cell_type": "code",
   "execution_count": 90,
   "metadata": {},
   "outputs": [
    {
     "data": {
      "text/plain": [
       "array([[-0.47113526,  1.26271548, -1.17051545],\n",
       "       [ 1.0657892 , -0.69993739,  0.14407911]])"
      ]
     },
     "execution_count": 90,
     "metadata": {},
     "output_type": "execute_result"
    }
   ],
   "source": [
    "np.random.randn(2,3)"
   ]
  },
  {
   "cell_type": "markdown",
   "metadata": {},
   "source": [
    "> #### 5. choice 함수\n",
    "* 배열의 원소 중 랜덤하게 지정된 횟수만큼 샘플 생성\n",
    "* 또는 0~(정수-1) 사이의 원소 중 랜덤하게 샘플 선택"
   ]
  },
  {
   "cell_type": "code",
   "execution_count": 91,
   "metadata": {},
   "outputs": [
    {
     "data": {
      "text/plain": [
       "array([2, 0, 1, 2, 0])"
      ]
     },
     "execution_count": 91,
     "metadata": {},
     "output_type": "execute_result"
    }
   ],
   "source": [
    "np.random.choice([0,1,2], 5)\n",
    "# .choice(3,5)와 동일\n",
    "#0~2 사이 정수 중 랜덤하게 5번 뽑음"
   ]
  },
  {
   "cell_type": "markdown",
   "metadata": {},
   "source": [
    "> #### 6. shuffle 함수\n",
    "* 입력된 배열을 섞는다"
   ]
  },
  {
   "cell_type": "code",
   "execution_count": 92,
   "metadata": {},
   "outputs": [
    {
     "data": {
      "text/plain": [
       "array([3, 4, 1, 0, 2])"
      ]
     },
     "execution_count": 92,
     "metadata": {},
     "output_type": "execute_result"
    }
   ],
   "source": [
    "a = np.array([0,1,2,3,4])\n",
    "np.random.shuffle(a)\n",
    "a"
   ]
  },
  {
   "cell_type": "markdown",
   "metadata": {},
   "source": [
    "#### 7.permutation 함수\n",
    "\n",
    "* 입력된 배열의 복사본을 만들어 섞은 후 반환\n",
    "* 정수를 입력하면 0에서부터 (정수-1)까지 숫자를 섞은 후 반환"
   ]
  },
  {
   "cell_type": "code",
   "execution_count": 94,
   "metadata": {},
   "outputs": [
    {
     "data": {
      "text/plain": [
       "array([2, 1, 3, 0, 4])"
      ]
     },
     "execution_count": 94,
     "metadata": {},
     "output_type": "execute_result"
    }
   ],
   "source": [
    "np.random.permutation(a)\n",
    "#a는 변경되지 않음"
   ]
  },
  {
   "cell_type": "code",
   "execution_count": 95,
   "metadata": {},
   "outputs": [
    {
     "data": {
      "text/plain": [
       "array([0, 1, 4, 3, 2])"
      ]
     },
     "execution_count": 95,
     "metadata": {},
     "output_type": "execute_result"
    }
   ],
   "source": [
    "np.random.permutation(5)"
   ]
  }
 ],
 "metadata": {
  "kernelspec": {
   "display_name": "Python 3",
   "language": "python",
   "name": "python3"
  },
  "language_info": {
   "codemirror_mode": {
    "name": "ipython",
    "version": 3
   },
   "file_extension": ".py",
   "mimetype": "text/x-python",
   "name": "python",
   "nbconvert_exporter": "python",
   "pygments_lexer": "ipython3",
   "version": "3.7.4"
  }
 },
 "nbformat": 4,
 "nbformat_minor": 2
}
