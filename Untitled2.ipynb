{
 "cells": [
  {
   "cell_type": "markdown",
   "metadata": {},
   "source": [
    "# 백터, 행렬, 배열\n",
    "\n",
    "## 1.1벡터 만들기\n",
    "\n",
    "목표: 넘파이로 1차원 배열 생성"
   ]
  },
  {
   "cell_type": "code",
   "execution_count": 18,
   "metadata": {},
   "outputs": [],
   "source": [
    "import numpy as np\n",
    "vector_row = np.array([1,2,3]) #행이 하나\n",
    "vector_column = np.array([[1],\n",
    "                         [2],\n",
    "                         [3]]) #열이 하나"
   ]
  },
  {
   "cell_type": "markdown",
   "metadata": {},
   "source": [
    "넘파이의 핵심 데이터 구조는 다차원배열   \n",
    "벡터는 1차원 배열로 생성   \n",
    "배열은 행(수평) 또는 열(수직)으로 만들 수 있다.\n",
    "\n",
    "***"
   ]
  },
  {
   "cell_type": "markdown",
   "metadata": {},
   "source": [
    "넘파이 배열은 ndarray 클래스의 객체이다."
   ]
  },
  {
   "cell_type": "code",
   "execution_count": 19,
   "metadata": {},
   "outputs": [
    {
     "name": "stdout",
     "output_type": "stream",
     "text": [
      "<class 'numpy.ndarray'>\n"
     ]
    }
   ],
   "source": [
    "print(type(vector_row))"
   ]
  },
  {
   "cell_type": "markdown",
   "metadata": {},
   "source": [
    "### ndarray 클래스   \n",
    "\n",
    "첫번째 매개변수에 배열의 크기를 정수 튜플로 지정해 배열 생성 가능   \n",
    "BUT 권장하지 않음"
   ]
  },
  {
   "cell_type": "code",
   "execution_count": 20,
   "metadata": {},
   "outputs": [
    {
     "name": "stdout",
     "output_type": "stream",
     "text": [
      "[ 1.14207443e-311  0.00000000e+000 -4.94065646e-324]\n"
     ]
    }
   ],
   "source": [
    "bad_way = np.ndarray((3,))  \n",
    "print(bad_way)"
   ]
  },
  {
   "cell_type": "code",
   "execution_count": 21,
   "metadata": {},
   "outputs": [
    {
     "name": "stdout",
     "output_type": "stream",
     "text": [
      "[[0. 0. 0. 0.]\n",
      " [0. 0. 0. 0.]\n",
      " [0. 0. 0. 0.]]\n"
     ]
    }
   ],
   "source": [
    "bad_way2 = np.ndarray((3,4)) #3=행, 4=열\n",
    "print(bad_way2)"
   ]
  },
  {
   "cell_type": "markdown",
   "metadata": {},
   "source": [
    "### asarray 함수   \n",
    "\n",
    "함수입력이 넘파이 배열일 경우 새로운 배열 생성 안함"
   ]
  },
  {
   "cell_type": "code",
   "execution_count": 26,
   "metadata": {},
   "outputs": [
    {
     "name": "stdout",
     "output_type": "stream",
     "text": [
      "[1 2 3]\n"
     ]
    }
   ],
   "source": [
    "new_row=np.asarray([1,2,3])\n",
    "print(new_row)"
   ]
  },
  {
   "cell_type": "code",
   "execution_count": 27,
   "metadata": {},
   "outputs": [
    {
     "data": {
      "text/plain": [
       "True"
      ]
     },
     "execution_count": 27,
     "metadata": {},
     "output_type": "execute_result"
    }
   ],
   "source": [
    "new_row=np.asarray(vector_row)\n",
    "new_row is vector_row #원본과 동일, 새로운 배열 생성x"
   ]
  },
  {
   "cell_type": "markdown",
   "metadata": {},
   "source": [
    "### array 함수   \n",
    "\n",
    "입력 배열을 복사할지 선택하는 copy 매개변수 존재   \n",
    "copy 매개변수의 기본값은 True -> 배열의 복사본 생성"
   ]
  },
  {
   "cell_type": "code",
   "execution_count": 28,
   "metadata": {},
   "outputs": [
    {
     "data": {
      "text/plain": [
       "False"
      ]
     },
     "execution_count": 28,
     "metadata": {},
     "output_type": "execute_result"
    }
   ],
   "source": [
    "new_row1 = np.array(vector_row)\n",
    "new_row1 is vector_row #새로운 배열 생성"
   ]
  },
  {
   "cell_type": "markdown",
   "metadata": {},
   "source": [
    "#### copy 메소드   \n",
    "\n",
    "배열 복사의 의도를 정확히 밝히는 용도"
   ]
  },
  {
   "cell_type": "code",
   "execution_count": 29,
   "metadata": {},
   "outputs": [
    {
     "data": {
      "text/plain": [
       "False"
      ]
     },
     "execution_count": 29,
     "metadata": {},
     "output_type": "execute_result"
    }
   ],
   "source": [
    "new_row = vector_row.copy()\n",
    "new_row is vector_row"
   ]
  },
  {
   "cell_type": "markdown",
   "metadata": {},
   "source": [
    "***\n",
    "\n",
    "## 1.2 행렬만들기   \n",
    "\n",
    "목표: 넘파이로 2차원 배열 만들기"
   ]
  },
  {
   "cell_type": "code",
   "execution_count": 52,
   "metadata": {},
   "outputs": [
    {
     "data": {
      "text/plain": [
       "array([[1, 2],\n",
       "       [1, 2],\n",
       "       [1, 2]])"
      ]
     },
     "execution_count": 52,
     "metadata": {},
     "output_type": "execute_result"
    }
   ],
   "source": [
    "import numpy as np\n",
    "matrix = np.array([[1,2],\n",
    "                  [1,2],\n",
    "                  [1,2]])\n",
    "matrix_object = np.mat([[1,2],\n",
    "                       [1,2],\n",
    "                       [1,2]])\n",
    "matrix"
   ]
  },
  {
   "cell_type": "code",
   "execution_count": 53,
   "metadata": {},
   "outputs": [
    {
     "data": {
      "text/plain": [
       "matrix([[1, 2],\n",
       "        [1, 2],\n",
       "        [1, 2]])"
      ]
     },
     "execution_count": 53,
     "metadata": {},
     "output_type": "execute_result"
    }
   ],
   "source": [
    "matrix_object"
   ]
  },
  {
   "cell_type": "markdown",
   "metadata": {},
   "source": [
    "위의 행렬데이터 구조는 2가지 이유로 권장하지 않는다.   \n",
    "1. 배열이 넘파이 표준 데이터 구조다\n",
    "2. 대부분 넘파이 함수는 배열을 반환한다. 행렬 객체는 반환하지 않는다."
   ]
  },
  {
   "cell_type": "markdown",
   "metadata": {},
   "source": [
    "### empty 함수   \n",
    "\n",
    "초깃값 대신 크기만 지정해 임의의 값이 채워진 배열을 만든다."
   ]
  },
  {
   "cell_type": "code",
   "execution_count": 46,
   "metadata": {},
   "outputs": [
    {
     "data": {
      "text/plain": [
       "array([[0., 0.],\n",
       "       [0., 0.],\n",
       "       [0., 0.]])"
      ]
     },
     "execution_count": 46,
     "metadata": {},
     "output_type": "execute_result"
    }
   ],
   "source": [
    "empty_matrix = np.empty((3,2))\n",
    "empty_matrix"
   ]
  },
  {
   "cell_type": "markdown",
   "metadata": {},
   "source": [
    "### zeros 함수, ones 함수\n",
    "\n",
    "zeros : 0으로 채운 배열을 만든다.   \n",
    "ones : 1로 채운 배열을 만든다."
   ]
  },
  {
   "cell_type": "code",
   "execution_count": 44,
   "metadata": {},
   "outputs": [
    {
     "data": {
      "text/plain": [
       "array([[0., 0.],\n",
       "       [0., 0.],\n",
       "       [0., 0.]])"
      ]
     },
     "execution_count": 44,
     "metadata": {},
     "output_type": "execute_result"
    }
   ],
   "source": [
    "zero_matrix=np.zeros((3,2))\n",
    "zero_matrix"
   ]
  },
  {
   "cell_type": "code",
   "execution_count": 54,
   "metadata": {},
   "outputs": [
    {
     "data": {
      "text/plain": [
       "array([[1., 1.],\n",
       "       [1., 1.],\n",
       "       [1., 1.]])"
      ]
     },
     "execution_count": 54,
     "metadata": {},
     "output_type": "execute_result"
    }
   ],
   "source": [
    "one_matrix=np.ones((3,2))\n",
    "one_matrix"
   ]
  },
  {
   "cell_type": "markdown",
   "metadata": {},
   "source": [
    "### full 함수   \n",
    "\n",
    "특정값으로 채운 배열 생성\n",
    "첫번째 매개변수에는 배열의 크기, 두번째 매개변수에는 채울 값을 전달한다."
   ]
  },
  {
   "cell_type": "code",
   "execution_count": 56,
   "metadata": {},
   "outputs": [
    {
     "data": {
      "text/plain": [
       "array([[7., 7.],\n",
       "       [7., 7.],\n",
       "       [7., 7.]])"
      ]
     },
     "execution_count": 56,
     "metadata": {},
     "output_type": "execute_result"
    }
   ],
   "source": [
    "seven_matrix = np.zeros((3,2)) + 7\n",
    "seven_matrix"
   ]
  },
  {
   "cell_type": "code",
   "execution_count": 57,
   "metadata": {},
   "outputs": [
    {
     "data": {
      "text/plain": [
       "array([[7, 7],\n",
       "       [7, 7],\n",
       "       [7, 7]])"
      ]
     },
     "execution_count": 57,
     "metadata": {},
     "output_type": "execute_result"
    }
   ],
   "source": [
    "seven_matrix = np.full((3,2), 7)\n",
    "seven_matrix"
   ]
  },
  {
   "cell_type": "markdown",
   "metadata": {},
   "source": [
    "***\n",
    "\n",
    "## 1.3 희소 행렬 만들기   \n",
    "\n",
    "목적: 데이터에 0이 아닌 값이 매우 적을때!, 효율적으로 표현하기"
   ]
  },
  {
   "cell_type": "code",
   "execution_count": 60,
   "metadata": {},
   "outputs": [
    {
     "name": "stdout",
     "output_type": "stream",
     "text": [
      "  (1, 1)\t1\n",
      "  (2, 0)\t3\n"
     ]
    }
   ],
   "source": [
    "import numpy as np\n",
    "from scipy import sparse\n",
    "\n",
    "matrix=np.array([[0,0],\n",
    "                [0,1],\n",
    "                [3,0]])\n",
    "\n",
    "matrix_sparse= sparse.csr_matrix(matrix) #sparse.csr_matrix(배열) : CSR행렬 생성\n",
    "print(matrix_sparse)"
   ]
  },
  {
   "cell_type": "markdown",
   "metadata": {},
   "source": [
    "희소행렬은 0이 아닌 원소만 저장, 다른 모든 원소는 0이라 가정   \n",
    "\n",
    "### CSR행렬   \n",
    "\n",
    "(m, n) a : m+1번째 행의 n+1번째 열에 있는 원소가 a   \n",
    "0인 원소를 아무리 많이 추가해도 희소행렬의 크기는 바뀌지 않는다   \n",
    "\n",
    "이 외 행렬 : 리스트의 리스트, 키의 딕셔너리"
   ]
  },
  {
   "cell_type": "code",
   "execution_count": 64,
   "metadata": {},
   "outputs": [
    {
     "name": "stdout",
     "output_type": "stream",
     "text": [
      "  (1, 1)\t1\n",
      "  (2, 0)\t3\n"
     ]
    }
   ],
   "source": [
    "matrix_large = np.array([[0,0,0,0,0,0,0,0,0,0],\n",
    "                        [0,1,0,0,0,0,0,0,0,0],\n",
    "                        [3,0,0,0,0,0,0,0,0,0]])  #밀집배열 생성\n",
    "matrix_large_sparse = sparse.csr_matrix(matrix_large)\n",
    "print(matrix_large_sparse)"
   ]
  },
  {
   "cell_type": "markdown",
   "metadata": {},
   "source": [
    "### 역으로 생성하기...희소행렬에서 밀집배열로\n",
    "\n",
    "밀집배열 생성 : 원소의 행과 열의 인덱스를 직접 지정해 희소행렬 생성\n",
    "1. 희소행렬에 (data, (row_index(행), col_index(열)))로 구성된 튜플 전달\n",
    "2. shape 매개변수에서 0을 포함한 희소행렬의 전체 크기 지정\n",
    "3. toarray메서드 or todense 메서드를 사용해 변환"
   ]
  },
  {
   "cell_type": "code",
   "execution_count": 66,
   "metadata": {},
   "outputs": [
    {
     "name": "stdout",
     "output_type": "stream",
     "text": [
      "  (1, 1)\t1\n",
      "  (2, 0)\t3\n",
      "[[0 0 0 0 0 0 0 0 0 0]\n",
      " [0 1 0 0 0 0 0 0 0 0]\n",
      " [3 0 0 0 0 0 0 0 0 0]]\n",
      "[[0 0 0 0 0 0 0 0 0 0]\n",
      " [0 1 0 0 0 0 0 0 0 0]\n",
      " [3 0 0 0 0 0 0 0 0 0]]\n"
     ]
    }
   ],
   "source": [
    "matrix_sparse_2 = sparse.csr_matrix(([1,3], ([1,2], [1,0])), shape=(3, 10))\n",
    "\n",
    "print(matrix_sparse_2)\n",
    "print(matrix_sparse_2.toarray())  #밀집배열로 변환\n",
    "print(matrix_sparse_2.todense())  #np.matrix 객체 반환"
   ]
  },
  {
   "cell_type": "code",
   "execution_count": null,
   "metadata": {},
   "outputs": [],
   "source": []
  }
 ],
 "metadata": {
  "kernelspec": {
   "display_name": "Python 3",
   "language": "python",
   "name": "python3"
  },
  "language_info": {
   "codemirror_mode": {
    "name": "ipython",
    "version": 3
   },
   "file_extension": ".py",
   "mimetype": "text/x-python",
   "name": "python",
   "nbconvert_exporter": "python",
   "pygments_lexer": "ipython3",
   "version": "3.7.4"
  }
 },
 "nbformat": 4,
 "nbformat_minor": 2
}
